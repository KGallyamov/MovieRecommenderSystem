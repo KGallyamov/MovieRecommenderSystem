{
 "cells": [
  {
   "cell_type": "code",
   "execution_count": null,
   "id": "dbfdfc71-afde-4626-9522-71c8aadb1d49",
   "metadata": {},
   "outputs": [],
   "source": [
    "import numpy as np\n",
    "import pandas as pd"
   ]
  },
  {
   "cell_type": "markdown",
   "id": "1eb116b1-469e-478c-8ef7-427599113caa",
   "metadata": {},
   "source": [
    "# MAP@K"
   ]
  },
  {
   "cell_type": "code",
   "execution_count": null,
   "id": "29b81660-1944-470f-b1e1-c139b5e32c47",
   "metadata": {},
   "outputs": [],
   "source": [
    "def mean_ap(predictions, ground_truth, k=10):\n",
    "    # search_results: np.array, (num_users, recommendations_num)\n",
    "    # ground_truth: np.array, (num_users, recommendations_num)\n",
    "    # mean of AP@k\n",
    "    assert len(predictions) == len(ground_truth)\n",
    "    assert all([len(set(prediction)) == len(prediction) for prediction in predictions])\n",
    "    map = 0.0\n",
    "    predictions = predictions[:, :k]\n",
    "    for i in range(len(predictions)):\n",
    "      ap = 0.0\n",
    "      correct = 0\n",
    "      relevant = set(ground_truth[i])\n",
    "\n",
    "      for mj in range(predictions.shape[-1]):\n",
    "        if predictions[i][mj] in relevant:\n",
    "          correct += 1\n",
    "          ap += correct / (mj + 1)\n",
    "      map += ap / ground_truth.shape[-1]\n",
    "    map /= ground_truth.shape[0]\n",
    "    return map"
   ]
  },
  {
   "cell_type": "code",
   "execution_count": null,
   "id": "beeae5f3-017b-4868-a490-8e3dff4cc5a3",
   "metadata": {},
   "outputs": [],
   "source": [
    "mean_ap(np.array([[3, 2, 1, 6, 5, 4, 9, 8, 7]]), np.array([[9, 1, 8]]))"
   ]
  },
  {
   "cell_type": "markdown",
   "id": "6f837fcb-a5d3-4a3b-80d2-9dda544cb030",
   "metadata": {},
   "source": [
    "# RMSE\n",
    "\n",
    "Calculated wrt ratings on known movies which are not in the train set"
   ]
  },
  {
   "cell_type": "code",
   "execution_count": null,
   "id": "2e3e8c43-acd4-4a4a-afa0-56295e811a97",
   "metadata": {},
   "outputs": [],
   "source": [
    "def rmse(predicted_ratings: np.array, gt_ratings: np.array):\n",
    "    return np.sqrt(np.mean((predicted_ratings.reshape(-1) - gt_ratings.reshape(-1)) ** 2))"
   ]
  },
  {
   "cell_type": "code",
   "execution_count": null,
   "id": "246b8389-974f-4b41-9700-704de976a12b",
   "metadata": {},
   "outputs": [],
   "source": [
    "rmse(np.ones(3), np.ones(3) * 2)"
   ]
  },
  {
   "cell_type": "code",
   "execution_count": null,
   "id": "1f3723c3-258e-4d2c-8366-a396ccc0349b",
   "metadata": {},
   "outputs": [],
   "source": [
    "rmse(np.ones(3) * 4, np.ones(3))"
   ]
  },
  {
   "cell_type": "markdown",
   "id": "a8a01f68-2df5-4ae4-b2a5-98d4dfa1516e",
   "metadata": {},
   "source": [
    "# Top 100 popular baseline"
   ]
  },
  {
   "cell_type": "code",
   "execution_count": null,
   "id": "e61c2581-ec47-4126-8476-9ecf66a77508",
   "metadata": {},
   "outputs": [],
   "source": [
    "data = pd.read_csv('../data/raw/u.data', sep='\\t', header=None)\n",
    "data = data.rename(columns={0: 'user_id', 1: 'film_id', 2: 'rating', 3: 'time'})"
   ]
  },
  {
   "cell_type": "code",
   "execution_count": null,
   "id": "c5bb5aa7-4c1c-4439-b790-d645205d1478",
   "metadata": {},
   "outputs": [],
   "source": [
    "users = pd.read_csv('../data/raw/u.user', sep='|', header=None, index_col=0)\n",
    "train_users = set(users.loc[:int(0.8 * len(users)), :].index.to_list())\n",
    "val_users = set(users.loc[len(train_users) + 1:, :].index.to_list())\n",
    "\n",
    "train = data[data.user_id.isin(train_users)]\n",
    "val = data[data.user_id.isin(val_users)]"
   ]
  },
  {
   "cell_type": "code",
   "execution_count": null,
   "id": "97867931-3747-477f-8bf3-86e8b99b04cf",
   "metadata": {},
   "outputs": [],
   "source": [
    "set(train.user_id).intersection(set(val.user_id))"
   ]
  },
  {
   "cell_type": "code",
   "execution_count": null,
   "id": "cddcf943-ea14-4169-a9e0-824326c5ba1f",
   "metadata": {},
   "outputs": [],
   "source": [
    "movies_popularity = train.drop(['user_id', 'time'], axis=1).groupby('film_id').sum('rating')\n",
    "most_popular_movies = movies_popularity.sort_values(by='rating', ascending=False).index[:100]\n",
    "most_popular_movies = np.array(most_popular_movies)\n",
    "most_popular_movies"
   ]
  },
  {
   "cell_type": "code",
   "execution_count": null,
   "id": "24755e60-d46c-40f2-bd41-c88994fdc919",
   "metadata": {},
   "outputs": [],
   "source": [
    "# To all users from the validation set recommend the most popular movies based on the users from train set\n",
    "actual_found_ratings = val[val.film_id.isin(most_popular_movies)].rating.to_numpy()\n",
    "predicted_rating = np.ones(len(actual_found_ratings)) * 5\n",
    "print(f'RMSE for popular movies recommendation = {rmse(predicted_rating, actual_found_ratings)}')"
   ]
  },
  {
   "cell_type": "code",
   "execution_count": null,
   "id": "05e4fb0a-4ec7-4a63-a60c-87e53ac30acf",
   "metadata": {},
   "outputs": [],
   "source": [
    "users_gt_favorite = []\n",
    "for user_id, user_records in val.groupby('user_id'):\n",
    "    favorite_items = user_records.sort_values('rating', ascending=False).film_id.values\n",
    "    users_gt_favorite.append(favorite_items[:10])\n",
    "\n",
    "users_gt_favorite = np.array(users_gt_favorite)\n",
    "predicted_recommendation = np.array([most_popular_movies for _ in range(len(users_gt_favorite))])\n",
    "\n",
    "for level in [10, 20, 50, 100]:\n",
    "    print(f'MAP @{level:3.0f} for popular movies recommendation = {mean_ap(predicted_recommendation, users_gt_favorite, level)}')"
   ]
  },
  {
   "cell_type": "markdown",
   "id": "aef11417-2938-43b5-aeb8-e96e9cb26f16",
   "metadata": {},
   "source": [
    "# Random 100 baseline"
   ]
  },
  {
   "cell_type": "code",
   "execution_count": null,
   "id": "76df773a-9224-4626-93ff-7769a45f8ce0",
   "metadata": {},
   "outputs": [],
   "source": [
    "num_movies = len(data.film_id.unique())"
   ]
  },
  {
   "cell_type": "code",
   "execution_count": null,
   "id": "6c3cc4eb-233b-427a-8ce0-ac1edd3d5a79",
   "metadata": {},
   "outputs": [],
   "source": [
    "actual_found_ratings = []\n",
    "predicted_ratings = []\n",
    "random_recommendations = []\n",
    "\n",
    "for user_id, user_record in val.groupby('user_id'):\n",
    "    rec = np.random.choice(range(num_movies), 100, replace=False)\n",
    "    found_ratings = val[val.film_id.isin(rec)].rating.to_numpy()\n",
    "\n",
    "    actual_found_ratings.extend(found_ratings)\n",
    "    random_recommendations.append(rec)\n",
    "    predicted_ratings.extend(np.ones(len(found_ratings)) * 5)\n",
    "\n",
    "random_recommendations = np.array(random_recommendations)\n",
    "predicted_ratings = np.array(predicted_ratings)\n",
    "actual_found_ratings = np.array(actual_found_ratings)\n",
    "\n",
    "predicted_rating = np.ones(len(actual_found_ratings)) * 5\n",
    "print(f'RMSE for popular movies recommendation = {rmse(predicted_ratings, actual_found_ratings)}')\n",
    "for level in [10, 20, 50, 100]:\n",
    "    print(f'MAP @{level:3.0f} for popular movies recommendation = {mean_ap(random_recommendations, users_gt_favorite, level)}')"
   ]
  },
  {
   "cell_type": "code",
   "execution_count": null,
   "id": "9fc05991-957a-4267-8816-21887af6df73",
   "metadata": {},
   "outputs": [],
   "source": []
  }
 ],
 "metadata": {
  "kernelspec": {
   "display_name": "Python 3 (ipykernel)",
   "language": "python",
   "name": "python3"
  },
  "language_info": {
   "codemirror_mode": {
    "name": "ipython",
    "version": 3
   },
   "file_extension": ".py",
   "mimetype": "text/x-python",
   "name": "python",
   "nbconvert_exporter": "python",
   "pygments_lexer": "ipython3",
   "version": "3.9.0"
  }
 },
 "nbformat": 4,
 "nbformat_minor": 5
}
