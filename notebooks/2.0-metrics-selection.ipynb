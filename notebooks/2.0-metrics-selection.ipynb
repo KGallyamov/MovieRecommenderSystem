{
 "cells": [
  {
   "cell_type": "code",
   "execution_count": 1,
   "id": "dbfdfc71-afde-4626-9522-71c8aadb1d49",
   "metadata": {},
   "outputs": [],
   "source": [
    "import numpy as np\n",
    "import pandas as pd"
   ]
  },
  {
   "cell_type": "markdown",
   "id": "1eb116b1-469e-478c-8ef7-427599113caa",
   "metadata": {},
   "source": [
    "# MAP@K"
   ]
  },
  {
   "cell_type": "code",
   "execution_count": 2,
   "id": "29b81660-1944-470f-b1e1-c139b5e32c47",
   "metadata": {},
   "outputs": [],
   "source": [
    "def mean_ap(predictions, ground_truth, k=10):\n",
    "    # search_results: np.array, (num_users, recommendations_num)\n",
    "    # ground_truth: np.array, (num_users, recommendations_num)\n",
    "    # mean of AP@k\n",
    "    assert len(predictions) == len(ground_truth)\n",
    "    assert all([len(set(prediction)) == len(prediction) for prediction in predictions])\n",
    "    map = 0.0\n",
    "    predictions = predictions[:, :k]\n",
    "    for i in range(len(predictions)):\n",
    "      ap = 0.0\n",
    "      correct = 0\n",
    "      relevant = set(ground_truth[i])\n",
    "\n",
    "      for mj in range(predictions.shape[-1]):\n",
    "        if predictions[i][mj] in relevant:\n",
    "          correct += 1\n",
    "          ap += correct / (mj + 1)\n",
    "      map += ap / ground_truth.shape[-1]\n",
    "    map /= ground_truth.shape[0]\n",
    "    return map"
   ]
  },
  {
   "cell_type": "code",
   "execution_count": 3,
   "id": "beeae5f3-017b-4868-a490-8e3dff4cc5a3",
   "metadata": {},
   "outputs": [
    {
     "data": {
      "text/plain": [
       "0.33134920634920634"
      ]
     },
     "execution_count": 3,
     "metadata": {},
     "output_type": "execute_result"
    }
   ],
   "source": [
    "mean_ap(np.array([[3, 2, 1, 6, 5, 4, 9, 8, 7]]), np.array([[9, 1, 8]]))"
   ]
  },
  {
   "cell_type": "markdown",
   "id": "6f837fcb-a5d3-4a3b-80d2-9dda544cb030",
   "metadata": {},
   "source": [
    "# RMSE\n",
    "\n",
    "Calculated wrt ratings on known movies which are not in the train set"
   ]
  },
  {
   "cell_type": "code",
   "execution_count": 4,
   "id": "2e3e8c43-acd4-4a4a-afa0-56295e811a97",
   "metadata": {},
   "outputs": [],
   "source": [
    "def rmse(predicted_ratings: np.array, gt_ratings: np.array):\n",
    "    return np.sqrt(np.mean((predicted_ratings.reshape(-1) - gt_ratings.reshape(-1)) ** 2))"
   ]
  },
  {
   "cell_type": "code",
   "execution_count": 5,
   "id": "246b8389-974f-4b41-9700-704de976a12b",
   "metadata": {},
   "outputs": [
    {
     "data": {
      "text/plain": [
       "1.0"
      ]
     },
     "execution_count": 5,
     "metadata": {},
     "output_type": "execute_result"
    }
   ],
   "source": [
    "rmse(np.ones(3), np.ones(3) * 2)"
   ]
  },
  {
   "cell_type": "code",
   "execution_count": 6,
   "id": "1f3723c3-258e-4d2c-8366-a396ccc0349b",
   "metadata": {},
   "outputs": [
    {
     "data": {
      "text/plain": [
       "3.0"
      ]
     },
     "execution_count": 6,
     "metadata": {},
     "output_type": "execute_result"
    }
   ],
   "source": [
    "rmse(np.ones(3) * 4, np.ones(3))"
   ]
  },
  {
   "cell_type": "markdown",
   "id": "a8a01f68-2df5-4ae4-b2a5-98d4dfa1516e",
   "metadata": {},
   "source": [
    "# Top 100 popular baseline"
   ]
  },
  {
   "cell_type": "code",
   "execution_count": 7,
   "id": "e61c2581-ec47-4126-8476-9ecf66a77508",
   "metadata": {},
   "outputs": [],
   "source": [
    "data = pd.read_csv('../data/raw/u.data', sep='\\t', header=None)\n",
    "data = data.rename(columns={0: 'user_id', 1: 'film_id', 2: 'rating', 3: 'time'})"
   ]
  },
  {
   "cell_type": "code",
   "execution_count": 8,
   "id": "c5bb5aa7-4c1c-4439-b790-d645205d1478",
   "metadata": {},
   "outputs": [],
   "source": [
    "users = pd.read_csv('../data/raw/u.user', sep='|', header=None, index_col=0)\n",
    "train_users = set(users.loc[:int(0.8 * len(users)), :].index.to_list())\n",
    "val_users = set(users.loc[len(train_users) + 1:, :].index.to_list())\n",
    "\n",
    "train = data[data.user_id.isin(train_users)]\n",
    "val = data[data.user_id.isin(val_users)]"
   ]
  },
  {
   "cell_type": "code",
   "execution_count": 9,
   "id": "97867931-3747-477f-8bf3-86e8b99b04cf",
   "metadata": {},
   "outputs": [
    {
     "data": {
      "text/plain": [
       "set()"
      ]
     },
     "execution_count": 9,
     "metadata": {},
     "output_type": "execute_result"
    }
   ],
   "source": [
    "set(train.user_id).intersection(set(val.user_id))"
   ]
  },
  {
   "cell_type": "code",
   "execution_count": 10,
   "id": "cddcf943-ea14-4169-a9e0-824326c5ba1f",
   "metadata": {},
   "outputs": [
    {
     "data": {
      "text/plain": [
       "array([ 50, 100, 181, 258, 127, 286, 174,   1,  98, 288,  56, 300, 172,\n",
       "         7, 294, 313, 121, 237, 117,  79, 204, 173, 318, 222,  64, 210,\n",
       "       269, 168,  22,  69, 302,  12,  96, 423,   9, 183, 357, 191, 276,\n",
       "       195,  15, 151, 216, 257,  89, 483, 176, 405, 234,  28, 202, 275,\n",
       "       135,  25, 132, 194, 268, 197, 238,  97, 185, 328, 196, 186, 742,\n",
       "       475, 748,  82, 603, 144,  11, 153,  70, 427, 496, 118, 655, 111,\n",
       "       182, 265, 228,   8, 435, 333, 180, 282, 187, 179, 134, 272, 125,\n",
       "       568, 211, 215, 515, 143, 508, 474, 175, 208], dtype=int64)"
      ]
     },
     "execution_count": 10,
     "metadata": {},
     "output_type": "execute_result"
    }
   ],
   "source": [
    "movies_popularity = train.drop(['user_id', 'time'], axis=1).groupby('film_id').sum('rating')\n",
    "most_popular_movies = movies_popularity.sort_values(by='rating', ascending=False).index[:100]\n",
    "most_popular_movies = np.array(most_popular_movies)\n",
    "most_popular_movies"
   ]
  },
  {
   "cell_type": "code",
   "execution_count": 11,
   "id": "24755e60-d46c-40f2-bd41-c88994fdc919",
   "metadata": {},
   "outputs": [
    {
     "name": "stdout",
     "output_type": "stream",
     "text": [
      "RMSE for popular movies recommendation = 1.4808899951232035\n"
     ]
    }
   ],
   "source": [
    "# To all users from the validation set recommend the most popular movies based on the users from train set\n",
    "actual_found_ratings = val[val.film_id.isin(most_popular_movies)].rating.to_numpy()\n",
    "predicted_rating = np.ones(len(actual_found_ratings)) * 5\n",
    "print(f'RMSE for popular movies recommendation = {rmse(predicted_rating, actual_found_ratings)}')"
   ]
  },
  {
   "cell_type": "code",
   "execution_count": 12,
   "id": "05e4fb0a-4ec7-4a63-a60c-87e53ac30acf",
   "metadata": {},
   "outputs": [
    {
     "name": "stdout",
     "output_type": "stream",
     "text": [
      "MAP @ 10 for popular movies recommendation = 0.05065738641135465\n",
      "MAP @ 20 for popular movies recommendation = 0.06474643578856318\n",
      "MAP @ 50 for popular movies recommendation = 0.07808367452858973\n",
      "MAP @100 for popular movies recommendation = 0.08768122761177957\n"
     ]
    }
   ],
   "source": [
    "users_gt_favorite = []\n",
    "for user_id, user_records in val.groupby('user_id'):\n",
    "    favorite_items = user_records.sort_values('rating', ascending=False).film_id.values\n",
    "    users_gt_favorite.append(favorite_items[:10])\n",
    "\n",
    "users_gt_favorite = np.array(users_gt_favorite)\n",
    "predicted_recommendation = np.array([most_popular_movies for _ in range(len(users_gt_favorite))])\n",
    "\n",
    "for level in [10, 20, 50, 100]:\n",
    "    print(f'MAP @{level:3.0f} for popular movies recommendation = {mean_ap(predicted_recommendation, users_gt_favorite, level)}')"
   ]
  },
  {
   "cell_type": "markdown",
   "id": "aef11417-2938-43b5-aeb8-e96e9cb26f16",
   "metadata": {},
   "source": [
    "# Random 100 baseline"
   ]
  },
  {
   "cell_type": "code",
   "execution_count": 15,
   "id": "76df773a-9224-4626-93ff-7769a45f8ce0",
   "metadata": {},
   "outputs": [],
   "source": [
    "num_movies = len(data.film_id.unique())"
   ]
  },
  {
   "cell_type": "code",
   "execution_count": 18,
   "id": "6c3cc4eb-233b-427a-8ce0-ac1edd3d5a79",
   "metadata": {},
   "outputs": [
    {
     "name": "stdout",
     "output_type": "stream",
     "text": [
      "RMSE for popular movies recommendation = 1.4808899951232035\n",
      "MAP @ 10 for popular movies recommendation = 0.001377551020408163\n",
      "MAP @ 20 for popular movies recommendation = 0.0018662582969182807\n",
      "MAP @ 50 for popular movies recommendation = 0.002517458910285687\n",
      "MAP @100 for popular movies recommendation = 0.0030849650912511445\n"
     ]
    }
   ],
   "source": [
    "actual_found_ratings = []\n",
    "predicted_ratings = []\n",
    "random_recommendations = []\n",
    "\n",
    "for user_id, user_record in val.groupby('user_id'):\n",
    "    rec = np.random.choice(range(num_movies), 100, replace=False)\n",
    "    found_ratings = val[val.film_id.isin(rec)].rating.to_numpy()\n",
    "\n",
    "    actual_found_ratings.extend(found_ratings)\n",
    "    random_recommendations.append(rec)\n",
    "    predicted_ratings.append(np.ones(len(found_ratings) * 5))\n",
    "\n",
    "random_recommendations = np.array(random_recommendations)\n",
    "\n",
    "actual_found_ratings = val[val.film_id.isin(most_popular_movies)].rating.to_numpy()\n",
    "predicted_rating = np.ones(len(actual_found_ratings)) * 5\n",
    "print(f'RMSE for popular movies recommendation = {rmse(predicted_rating, actual_found_ratings)}')\n",
    "for level in [10, 20, 50, 100]:\n",
    "    print(f'MAP @{level:3.0f} for popular movies recommendation = {mean_ap(random_recommendations, users_gt_favorite, level)}')"
   ]
  }
 ],
 "metadata": {
  "kernelspec": {
   "display_name": "Python 3 (ipykernel)",
   "language": "python",
   "name": "python3"
  },
  "language_info": {
   "codemirror_mode": {
    "name": "ipython",
    "version": 3
   },
   "file_extension": ".py",
   "mimetype": "text/x-python",
   "name": "python",
   "nbconvert_exporter": "python",
   "pygments_lexer": "ipython3",
   "version": "3.9.0"
  }
 },
 "nbformat": 4,
 "nbformat_minor": 5
}
